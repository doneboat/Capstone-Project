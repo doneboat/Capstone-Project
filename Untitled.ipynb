{
 "cells": [
  {
   "cell_type": "code",
   "execution_count": 2,
   "metadata": {},
   "outputs": [
    {
     "name": "stdout",
     "output_type": "stream",
     "text": [
      "2019-06-07 09:59:58.045424\n",
      "2019-06-07 09:59:58.172515\n",
      "2019-06-07 09:59:59.548451\n",
      "submit to buy at  2019-06-07 10:00:05.747639\n"
     ]
    },
    {
     "ename": "KeyboardInterrupt",
     "evalue": "",
     "output_type": "error",
     "traceback": [
      "\u001b[1;31m---------------------------------------------------------------------------\u001b[0m",
      "\u001b[1;31mKeyboardInterrupt\u001b[0m                         Traceback (most recent call last)",
      "\u001b[1;32m<ipython-input-2-ff2d089e5e21>\u001b[0m in \u001b[0;36m<module>\u001b[1;34m\u001b[0m\n\u001b[0;32m     29\u001b[0m     \u001b[0mtime\u001b[0m\u001b[1;33m.\u001b[0m\u001b[0msleep\u001b[0m\u001b[1;33m(\u001b[0m\u001b[1;36m0.1\u001b[0m\u001b[1;33m)\u001b[0m\u001b[1;33m\u001b[0m\u001b[0m\n\u001b[0;32m     30\u001b[0m \u001b[1;33m\u001b[0m\u001b[0m\n\u001b[1;32m---> 31\u001b[1;33m \u001b[0mbuy\u001b[0m\u001b[1;33m(\u001b[0m\u001b[1;34m'09:59:58'\u001b[0m\u001b[1;33m)\u001b[0m\u001b[1;33m\u001b[0m\u001b[0m\n\u001b[0m\u001b[0;32m     32\u001b[0m \u001b[1;33m\u001b[0m\u001b[0m\n",
      "\u001b[1;32m<ipython-input-2-ff2d089e5e21>\u001b[0m in \u001b[0;36mbuy\u001b[1;34m(buytime)\u001b[0m\n\u001b[0;32m     27\u001b[0m                 \u001b[0mdriver\u001b[0m\u001b[1;33m.\u001b[0m\u001b[0mrefresh\u001b[0m\u001b[1;33m(\u001b[0m\u001b[1;33m)\u001b[0m\u001b[1;33m\u001b[0m\u001b[0m\n\u001b[0;32m     28\u001b[0m                 \u001b[1;31m#time.sleep(0.1)\u001b[0m\u001b[1;33m\u001b[0m\u001b[1;33m\u001b[0m\u001b[0m\n\u001b[1;32m---> 29\u001b[1;33m     \u001b[0mtime\u001b[0m\u001b[1;33m.\u001b[0m\u001b[0msleep\u001b[0m\u001b[1;33m(\u001b[0m\u001b[1;36m0.1\u001b[0m\u001b[1;33m)\u001b[0m\u001b[1;33m\u001b[0m\u001b[0m\n\u001b[0m\u001b[0;32m     30\u001b[0m \u001b[1;33m\u001b[0m\u001b[0m\n\u001b[0;32m     31\u001b[0m \u001b[0mbuy\u001b[0m\u001b[1;33m(\u001b[0m\u001b[1;34m'09:59:58'\u001b[0m\u001b[1;33m)\u001b[0m\u001b[1;33m\u001b[0m\u001b[0m\n",
      "\u001b[1;31mKeyboardInterrupt\u001b[0m: "
     ]
    }
   ],
   "source": [
    "from selenium import webdriver\n",
    "from selenium.webdriver.support.ui import WebDriverWait\n",
    "import time\n",
    "import datetime\n",
    "chromedriver = 'C:/Program Files (x86)/Google/Chrome/Application/chromedriver.exe'\n",
    "driver = webdriver.Chrome(chromedriver)\n",
    "driver.get('https://www.taobao.com')\n",
    "driver.maximize_window()\n",
    "WebDriverWait(driver, 10, poll_frequency=0.01).until(lambda driver: driver.find_element_by_link_text(\"亲，请登录\")).click()\n",
    "# wait manual login for 120s\n",
    "WebDriverWait(driver, 120).until(lambda driver: driver.find_element_by_link_text(\"d1n6oat\"))\n",
    "# website of item\n",
    "driver.get('https://detail.tmall.hk/hk/item.htm?spm=a1z10.1-b-s.w5003-21751296676.10.694557bdv2P2gb&id=594842883200&scene=taobao_shop')\n",
    "\n",
    "def buy(buytime):    \n",
    "  while True:\n",
    "    now = datetime.datetime.now()\n",
    "    if now.strftime('%H:%M:%S') == buytime:\n",
    "        for i in range(0,10000):\n",
    "            try:\n",
    "                print(datetime.datetime.now())\n",
    "                driver.find_element_by_link_text(\"立即购买\").click()\n",
    "                WebDriverWait(driver, 10, poll_frequency=0.01).until(lambda driver: driver.find_element_by_link_text(\"提交订单\")).click()\n",
    "                print('submit to buy at ', datetime.datetime.now())\n",
    "                break\n",
    "            except Exception as e:\n",
    "                driver.refresh()\n",
    "                #time.sleep(0.1)\n",
    "    time.sleep(0.1)\n",
    "\n",
    "buy('09:59:58')\n",
    "\n"
   ]
  },
  {
   "cell_type": "code",
   "execution_count": null,
   "metadata": {},
   "outputs": [],
   "source": [
    "driver.close"
   ]
  }
 ],
 "metadata": {
  "kernelspec": {
   "display_name": "Python 3",
   "language": "python",
   "name": "python3"
  },
  "language_info": {
   "codemirror_mode": {
    "name": "ipython",
    "version": 3
   },
   "file_extension": ".py",
   "mimetype": "text/x-python",
   "name": "python",
   "nbconvert_exporter": "python",
   "pygments_lexer": "ipython3",
   "version": "3.6.5"
  }
 },
 "nbformat": 4,
 "nbformat_minor": 2
}
